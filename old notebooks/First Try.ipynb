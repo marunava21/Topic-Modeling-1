{
 "cells": [
  {
   "cell_type": "code",
   "execution_count": 1,
   "id": "08bd6c70",
   "metadata": {
    "scrolled": true
   },
   "outputs": [
    {
     "name": "stderr",
     "output_type": "stream",
     "text": [
      "2022-06-06 21:22:41.786531: W tensorflow/stream_executor/platform/default/dso_loader.cc:64] Could not load dynamic library 'libcudart.so.11.0'; dlerror: libcudart.so.11.0: cannot open shared object file: No such file or directory; LD_LIBRARY_PATH: /opt/lsf_10.1.0/10.1/linux3.10-glibc2.17-x86_64/lib\n",
      "2022-06-06 21:22:41.786567: I tensorflow/stream_executor/cuda/cudart_stub.cc:29] Ignore above cudart dlerror if you do not have a GPU set up on your machine.\n"
     ]
    }
   ],
   "source": [
    "## import general libraries\n",
    "import numpy as np\n",
    "import pandas as pd\n",
    "import re\n",
    "import json\n",
    "import glob\n",
    "import nltk\n",
    "#Gensim\n",
    "import gensim\n",
    "import gensim.corpora as corpora\n",
    "from gensim.utils import simple_preprocess\n",
    "from gensim.models import coherencemodel\n",
    "from Data_Cleaning import datacleaning, datamapping, datapreprocessing\n",
    "##spacy\n",
    "import spacy\n",
    "from nltk.corpus import stopwords\n",
    "\n",
    "##vis\n",
    "import pyLDAvis\n",
    "import pyLDAvis.gensim_models\n",
    "\n",
    "import warnings\n",
    "warnings.filterwarnings(\"ignore\", category=DeprecationWarning)\n",
    "from nltk.stem import WordNetLemmatizer"
   ]
  },
  {
   "cell_type": "code",
   "execution_count": 2,
   "id": "8fe1461d",
   "metadata": {},
   "outputs": [
    {
     "name": "stderr",
     "output_type": "stream",
     "text": [
      "[nltk_data] Downloading package wordnet to /ifxhome/manna/nltk_data...\n",
      "[nltk_data]   Package wordnet is already up-to-date!\n",
      "[nltk_data] Downloading package omw-1.4 to /ifxhome/manna/nltk_data...\n",
      "[nltk_data]   Package omw-1.4 is already up-to-date!\n"
     ]
    }
   ],
   "source": [
    "stopwords =  stopwords.words(\"english\")\n",
    "stopwords.extend(['from', 'subject', 're', 'edu', 'use', 'infineon', 'camstar','com'])\n",
    "nltk.download('wordnet')\n",
    "nltk.download('omw-1.4')\n",
    "import en_core_web_sm\n",
    "nlp = en_core_web_sm.load()"
   ]
  },
  {
   "cell_type": "code",
   "execution_count": null,
   "id": "70f40693",
   "metadata": {},
   "outputs": [],
   "source": []
  },
  {
   "cell_type": "code",
   "execution_count": 3,
   "id": "bc7e90da",
   "metadata": {},
   "outputs": [],
   "source": [
    "# def gen_words(texts):\n",
    "#     final =[]\n",
    "#     texts = texts.split(\" \")\n",
    "#     for text in texts:\n",
    "#         new = gensim.utils.simple_preprocess(text, deacc= True)\n",
    "#         final.append(new)\n",
    "#     return list(np.squeeze(final))\n",
    "# data_words = gen_words(tickets['Desc'].loc[0])\n",
    "# print(data_words)"
   ]
  },
  {
   "cell_type": "code",
   "execution_count": 4,
   "id": "9e271f80",
   "metadata": {
    "scrolled": true
   },
   "outputs": [],
   "source": [
    "# tickets[\"common_words\"]=tickets.Desc.map(lambda x:gen_words(x))"
   ]
  },
  {
   "cell_type": "code",
   "execution_count": 5,
   "id": "96f55661",
   "metadata": {},
   "outputs": [],
   "source": [
    "# id2word = corpora.Dictionary(data_words)\n",
    "# corpus =[]\n",
    "# for text in data_words:\n",
    "#     new = id2word.doc2bow(text)\n",
    "#     corpus.append(new)\n",
    "# print(corpus[0][0:20])"
   ]
  },
  {
   "cell_type": "code",
   "execution_count": null,
   "id": "8c64d09a",
   "metadata": {},
   "outputs": [],
   "source": []
  },
  {
   "cell_type": "code",
   "execution_count": 6,
   "id": "2e89e6d3",
   "metadata": {
    "scrolled": true
   },
   "outputs": [],
   "source": [
    "# tickets['Category'].value_counts()"
   ]
  },
  {
   "cell_type": "code",
   "execution_count": 7,
   "id": "605d87c9",
   "metadata": {
    "scrolled": true
   },
   "outputs": [],
   "source": [
    "# tickets['common_words']=tickets1['common_words']"
   ]
  },
  {
   "cell_type": "code",
   "execution_count": 8,
   "id": "1f462e14",
   "metadata": {},
   "outputs": [],
   "source": [
    "# def generate_N_grams(text,ngram=1):\n",
    "#     words=[word for word in text.split(\" \") if word not in set(stopwords.words('english'))]  \n",
    "# #     print(\"Sentence after removing stopwords:\",words)\n",
    "#     temp=zip(*[words[i:] for i in range(0,ngram)])\n",
    "#     ans=[' '.join(ngram) for ngram in temp]\n",
    "#     return ans"
   ]
  },
  {
   "cell_type": "code",
   "execution_count": 9,
   "id": "de11ada0",
   "metadata": {},
   "outputs": [],
   "source": [
    "# from collections import defaultdict"
   ]
  },
  {
   "cell_type": "code",
   "execution_count": 10,
   "id": "4f1823b9",
   "metadata": {
    "scrolled": true
   },
   "outputs": [],
   "source": [
    "# tickets['Category'].value_counts()"
   ]
  },
  {
   "cell_type": "code",
   "execution_count": 11,
   "id": "0a47fe7b",
   "metadata": {},
   "outputs": [],
   "source": [
    "# invalidjob = defaultdict(int)\n",
    "# missingtestssummary = defaultdict(int)\n",
    "# configissue = defaultdict(int)\n",
    "# camstarerror =  defaultdict(int)\n",
    "# printissue = defaultdict(int)\n",
    "# procedureissue = defaultdict(int)\n",
    "# buttongrey = defaultdict(int)\n",
    "# onhold = defaultdict(int)\n",
    "# quantityissue = defaultdict(int)\n",
    "# statuschange=defaultdict(int)\n",
    "# lotissue=defaultdict(int)\n",
    "# stmsissue=defaultdict(int)\n",
    "# wrongequipment=defaultdict(int)\n",
    "# trackingerror=defaultdict(int)\n",
    "# httpissue =defaultdict(int)\n",
    "# eafissue =defaultdict(int)\n",
    "# combineissue =defaultdict(int)\n",
    "# stepproblem=defaultdict(int)\n",
    "# mergeissue=defaultdict(int)\n",
    "# TFM =defaultdict(int)"
   ]
  },
  {
   "cell_type": "code",
   "execution_count": 12,
   "id": "82040271",
   "metadata": {},
   "outputs": [],
   "source": [
    "# for text in tickets[tickets.Category==\"invalidjob\"].Desc:\n",
    "#     for word in generate_N_grams(text,2):\n",
    "#         invalidjob[word]+=1\n",
    "# for text in tickets[tickets.Category==\"missingtestssummary\"].Desc:\n",
    "#     for word in generate_N_grams(text,2):\n",
    "#         missingtestssummary[word]+=1\n",
    "# for text in tickets[tickets.Category==\"camstarerror\"].Desc:\n",
    "#     for word in generate_N_grams(text,2):\n",
    "#         camstarerror[word]+=1\n",
    "# for text in tickets[tickets.Category==\"procedureissue\"].Desc:\n",
    "#     for word in generate_N_grams(text,2):\n",
    "#         procedureissue[word]+=1\n",
    "# for text in tickets[tickets.Category==\"buttongrey\"].Desc:\n",
    "#     for word in generate_N_grams(text,2):\n",
    "#         buttongrey[word]+=1\n",
    "# for text in tickets[tickets.Category==\"onhold\"].Desc:\n",
    "#     for word in generate_N_grams(text,2):\n",
    "#         onhold[word]+=1\n",
    "# for text in tickets[tickets.Category==\"quantityissue\"].Desc:\n",
    "#     for word in generate_N_grams(text,2):\n",
    "#         quantityissue[word]+=1\n",
    "        \n",
    "# for text in tickets[tickets.Category==\"statuschange\"].Desc:\n",
    "#     for word in generate_N_grams(text,2):\n",
    "#         statuschange[word]+=1\n",
    "# for text in tickets[tickets.Category==\"lotissue\"].Desc:\n",
    "#     for word in generate_N_grams(text,2):\n",
    "#         lotissue[word]+=1\n",
    "# for text in tickets[tickets.Category==\"stmsissue\"].Desc:\n",
    "#     for word in generate_N_grams(text,2):\n",
    "#         stmsissue[word]+=1\n",
    "# for text in tickets[tickets.Category==\"wrongequipment\"].Desc:\n",
    "#     for word in generate_N_grams(text,2):\n",
    "#         wrongequipment[word]+=1\n",
    "# for text in tickets[tickets.Category==\"trackingerror\"].Desc:\n",
    "#     for word in generate_N_grams(text,2):\n",
    "#         trackingerror[word]+=1\n",
    "# for text in tickets[tickets.Category==\"httpissue\"].Desc:\n",
    "#     for word in generate_N_grams(text,2):\n",
    "#         httpissue[word]+=1\n",
    "# for text in tickets[tickets.Category==\"eafissue\"].Desc:\n",
    "#     for word in generate_N_grams(text,2):\n",
    "#         eafissue[word]+=1\n",
    "# for text in tickets[tickets.Category==\"combineissue\"].Desc:\n",
    "#     for word in generate_N_grams(text,2):\n",
    "#         combineissue[word]+=1\n",
    "# for text in tickets[tickets.Category==\"stepproblem\"].Desc:\n",
    "#     for word in generate_N_grams(text,2):\n",
    "#         stepproblem[word]+=1\n",
    "# for text in tickets[tickets.Category==\"mergeissue\"].Desc:\n",
    "#     for word in generate_N_grams(text,2):\n",
    "#         mergeissue[word]+=1\n",
    "# for text in tickets[tickets.Category==\"TFM\"].Desc:\n",
    "#     for word in generate_N_grams(text,2):\n",
    "#         TFM[word]+=1"
   ]
  },
  {
   "cell_type": "code",
   "execution_count": 13,
   "id": "6ecafc7c",
   "metadata": {},
   "outputs": [
    {
     "name": "stderr",
     "output_type": "stream",
     "text": [
      "[nltk_data] Downloading package words to /ifxhome/manna/nltk_data...\n",
      "[nltk_data]   Package words is already up-to-date!\n"
     ]
    }
   ],
   "source": [
    "initialize = True\n",
    "# lemmatization\n",
    "if initialize:\n",
    "    nltk.download('words')\n",
    "# tickets1 = pd.read_excel('tickets (6).xlsx')\n",
    "# tickets1 = tickets1.fillna('')"
   ]
  },
  {
   "cell_type": "code",
   "execution_count": null,
   "id": "0b47ad3d",
   "metadata": {
    "scrolled": true
   },
   "outputs": [],
   "source": [
    "df_reviews=pd.read_excel('tickets (6).xlsx')\n",
    "df_reviews\n",
    "\n",
    "df_reviews.dropna(subset=['Desc'], how='all', inplace=True)\n",
    "\n",
    "#remove all languages except english\n",
    "import nltk\n",
    "nltk.download('wordnet')\n",
    "nltk.download('omw-1.4')\n",
    "words = set(nltk.corpus.words.words())\n",
    "\n",
    "def keep_english(x):\n",
    "    englishwords=\" \".join(w for w in nltk.wordpunct_tokenize(x) if w.lower() in words or not w.isalpha())\n",
    "    return englishwords\n",
    "\n",
    "# df_reviews['Desc']=df_reviews['Desc'].apply(keep_english)\n",
    "df_reviews['Desc'] = df_reviews['Desc'].map(lambda x: re.sub('[,\\.!?]', '', x))\n",
    "df_reviews['Desc']\n",
    "\n",
    "import glob\n",
    "import gensim\n",
    "import gensim.corpora as corpora\n",
    "from gensim.utils import simple_preprocess\n",
    "from gensim.models import CoherenceModel\n",
    "import spacy\n",
    "nltk.download('stopwords')\n",
    "# !pip install pyLDAvis\n",
    "import pyLDAvis\n",
    "from nltk.corpus import stopwords\n",
    "stopwords=stopwords.words(\"english\")\n",
    "stopwords.extend(['from', 'subject', 're', 'edu', 'use', 'infineon', 'camstar','com'])\n",
    "\n",
    "import pyLDAvis.gensim_models as gensimvis\n",
    "pyLDAvis.enable_notebook()\n",
    "\n",
    "# feed the LDA model into the pyLDAvis instance\n",
    "# lda_viz = gensimvis.prepare(ldamodel, corpus, dictionary)\n",
    "import en_core_web_sm\n",
    "nlp = en_core_web_sm.load()\n",
    "\n",
    "import warnings\n",
    "warnings.filterwarnings(\"ignore\",category=DeprecationWarning)\n",
    "\n",
    "def gen_words(texts):\n",
    "    final=[]\n",
    "    for text in texts:\n",
    "        new=gensim.utils.simple_preprocess(text,deacc=True)\n",
    "        final.append(new)\n",
    "    return (final)\n",
    "def remove_stopwords(texts):\n",
    "    return [[word for word in simple_preprocess(str(doc)) if word not in stopwords] for doc in texts]\n",
    "\n",
    "fileref = 'lookup.xlsx'\n",
    "# cleaned = datacleaning(tickets)\n",
    "processed = datamapping(df_reviews,fileref)\n",
    "data_words=gen_words(processed['Desc'])\n",
    "data_words = remove_stopwords(data_words)\n",
    "lem = WordNetLemmatizer()\n",
    "for i in range(len(data_words)):\n",
    "    text_list = data_words[i]\n",
    "#     text_list = [lancaster.stem(word) for word in text_list]\n",
    "    text_list = [lem.lemmatize(word) for word in text_list]\n",
    "    text_list = [lem.lemmatize(word, 'v') for word in text_list]\n",
    "    text_list = [lem.lemmatize(word, 'a') for word in text_list]\n",
    "    text_list = [lem.lemmatize(word, 'r') for word in text_list]\n",
    "    text_list = [lem.lemmatize(word, 's') for word in text_list]\n",
    "    df_reviews[\"desc\"].loc[i]= \" \".join(text_list)\n",
    "\n",
    "\n",
    "lemmatized_texts=df_reviews['desc']\n",
    "\n",
    "#get word tokens\n",
    "\n",
    "\n",
    "# data_words=gen_words(lemmatized_texts)\n",
    "data_words = remove_stopwords(data_words)"
   ]
  },
  {
   "cell_type": "code",
   "execution_count": 26,
   "id": "ac62abf2",
   "metadata": {
    "scrolled": true
   },
   "outputs": [],
   "source": [
    "def join_words(l):\n",
    "    return \" \".join(l)\n",
    "df_reviews['common_words'] =  data_words\n",
    "df_reviews['common_words'] = df_reviews.common_words.map(lambda x:join_words(x))"
   ]
  },
  {
   "cell_type": "code",
   "execution_count": 23,
   "id": "afa1be91",
   "metadata": {},
   "outputs": [],
   "source": [
    "import numpy as np\n",
    "from sklearn import decomposition\n",
    "from sklearn.feature_extraction.text import CountVectorizer, TfidfVectorizer\n",
    "from sklearn.decomposition import LatentDirichletAllocation\n",
    "from sklearn.model_selection import GridSearchCV\n",
    "from fuzzywuzzy import fuzz\n",
    "import gensim.corpora as corpora\n",
    "\n",
    "# tickets = pd.read_excel('tickets (6).xlsx')\n",
    "# tickets = tickets.fillna('')\n",
    "tickets = data_words\n",
    "\n",
    "def topic_gen(tickets, num_topics, num_words):\n",
    "    lda = LatentDirichletAllocation(n_components=num_topics, max_iter=10,learning_decay=0.5, learning_method='online',learning_offset=50,n_jobs=-1,evaluate_every = -1,batch_size=128, random_state=100)\n",
    "    vectorizer_cv = TfidfVectorizer(analyzer='word',ngram_range=(2,3))\n",
    "    X_cv = vectorizer_cv.fit_transform(df_reviews['common_words']).toarray()\n",
    "    W1=lda.fit_transform(X_cv)\n",
    "    H1=lda.components_\n",
    "    num_words=num_words\n",
    "    vocab=np.array(vectorizer_cv.get_feature_names())\n",
    "    top_words=lambda t: [vocab[i] for i in np.argsort(t)[:-num_words-1:-1]]\n",
    "    topic_words=([top_words(t) for t in H1])\n",
    "    topics=[' '.join(t) for t in topic_words]\n",
    "    colnames=[\"Topic\"+ str(i) for i in range(lda.n_components)]\n",
    "    df_doc_topic=pd.DataFrame(np.round(W1,2), columns=colnames)\n",
    "    significant_topic=np.argmax(df_doc_topic.values,axis=1)\n",
    "    return [lda, X_cv, topics, df_doc_topic, significant_topic]\n",
    "\n",
    "def table_formatting(df_doc_topic, tickets):\n",
    "    df_topic_table=pd.concat([tickets,df_doc_topic],axis=1)\n",
    "    df_doc_topic=df_doc_topic.reset_index(drop=True)\n",
    "#     df_topic_table=df_topic_table.drop('level_0',axis=1)\n",
    "    df_topic_table=df_topic_table.drop('index',axis=1)\n",
    "    df_topic_table=df_topic_table.drop('Unnamed: 0',axis=1)\n",
    "    df_topic_table=df_topic_table.groupby(['Ticketid']).mean().reset_index()\n",
    "    return df_topic_table\n",
    "\n",
    "def get_inference(model, vectorizer, topics, text, threshold):\n",
    "    v_text = vectorizer.transform([text])\n",
    "    score = model.transform(v_text)\n",
    "\n",
    "    labels = set()\n",
    "    for i in range(len(score[0])):\n",
    "        if score[0][i] > threshold:\n",
    "            labels.add(topics[i])\n",
    "\n",
    "    if not labels:\n",
    "        return 'None', -1, set()\n",
    "\n",
    "    return topics[np.argmax(score)], score, labels"
   ]
  },
  {
   "cell_type": "code",
   "execution_count": 27,
   "id": "8d97a4a3",
   "metadata": {},
   "outputs": [
    {
     "name": "stderr",
     "output_type": "stream",
     "text": [
      "/home/fibebocai/virtualenvs/fibebocai_text/lib/python3.7/site-packages/sklearn/utils/deprecation.py:87: FutureWarning: Function get_feature_names is deprecated; get_feature_names is deprecated in 1.0 and will be removed in 1.2. Please use get_feature_names_out instead.\n",
      "  warnings.warn(msg, category=FutureWarning)\n"
     ]
    },
    {
     "ename": "TypeError",
     "evalue": "cannot concatenate object of type '<class 'list'>'; only Series and DataFrame objs are valid",
     "output_type": "error",
     "traceback": [
      "\u001b[0;31m---------------------------------------------------------------------------\u001b[0m",
      "\u001b[0;31mTypeError\u001b[0m                                 Traceback (most recent call last)",
      "\u001b[0;32m/tmp/ipykernel_11895/204454539.py\u001b[0m in \u001b[0;36m<module>\u001b[0;34m\u001b[0m\n\u001b[1;32m      2\u001b[0m \u001b[0mnum_words\u001b[0m \u001b[0;34m=\u001b[0m \u001b[0;36m40\u001b[0m\u001b[0;34m\u001b[0m\u001b[0;34m\u001b[0m\u001b[0m\n\u001b[1;32m      3\u001b[0m \u001b[0;34m[\u001b[0m\u001b[0mlda\u001b[0m\u001b[0;34m,\u001b[0m \u001b[0mX_cv\u001b[0m\u001b[0;34m,\u001b[0m \u001b[0mtopics\u001b[0m\u001b[0;34m,\u001b[0m \u001b[0mdf_doc_topic\u001b[0m\u001b[0;34m,\u001b[0m \u001b[0msignificant_topic\u001b[0m\u001b[0;34m]\u001b[0m \u001b[0;34m=\u001b[0m \u001b[0mtopic_gen\u001b[0m\u001b[0;34m(\u001b[0m\u001b[0mtickets\u001b[0m\u001b[0;34m,\u001b[0m \u001b[0mnum_topics\u001b[0m\u001b[0;34m,\u001b[0m \u001b[0mnum_words\u001b[0m\u001b[0;34m)\u001b[0m\u001b[0;34m\u001b[0m\u001b[0;34m\u001b[0m\u001b[0m\n\u001b[0;32m----> 4\u001b[0;31m \u001b[0mdf_topic_table\u001b[0m \u001b[0;34m=\u001b[0m \u001b[0mtable_formatting\u001b[0m\u001b[0;34m(\u001b[0m\u001b[0mdf_doc_topic\u001b[0m\u001b[0;34m,\u001b[0m \u001b[0mtickets\u001b[0m\u001b[0;34m)\u001b[0m\u001b[0;34m\u001b[0m\u001b[0;34m\u001b[0m\u001b[0m\n\u001b[0m",
      "\u001b[0;32m/tmp/ipykernel_11895/3236530465.py\u001b[0m in \u001b[0;36mtable_formatting\u001b[0;34m(df_doc_topic, tickets)\u001b[0m\n\u001b[1;32m     28\u001b[0m \u001b[0;34m\u001b[0m\u001b[0m\n\u001b[1;32m     29\u001b[0m \u001b[0;32mdef\u001b[0m \u001b[0mtable_formatting\u001b[0m\u001b[0;34m(\u001b[0m\u001b[0mdf_doc_topic\u001b[0m\u001b[0;34m,\u001b[0m \u001b[0mtickets\u001b[0m\u001b[0;34m)\u001b[0m\u001b[0;34m:\u001b[0m\u001b[0;34m\u001b[0m\u001b[0;34m\u001b[0m\u001b[0m\n\u001b[0;32m---> 30\u001b[0;31m     \u001b[0mdf_topic_table\u001b[0m\u001b[0;34m=\u001b[0m\u001b[0mpd\u001b[0m\u001b[0;34m.\u001b[0m\u001b[0mconcat\u001b[0m\u001b[0;34m(\u001b[0m\u001b[0;34m[\u001b[0m\u001b[0mtickets\u001b[0m\u001b[0;34m,\u001b[0m\u001b[0mdf_doc_topic\u001b[0m\u001b[0;34m]\u001b[0m\u001b[0;34m,\u001b[0m\u001b[0maxis\u001b[0m\u001b[0;34m=\u001b[0m\u001b[0;36m1\u001b[0m\u001b[0;34m)\u001b[0m\u001b[0;34m\u001b[0m\u001b[0;34m\u001b[0m\u001b[0m\n\u001b[0m\u001b[1;32m     31\u001b[0m     \u001b[0mdf_doc_topic\u001b[0m\u001b[0;34m=\u001b[0m\u001b[0mdf_doc_topic\u001b[0m\u001b[0;34m.\u001b[0m\u001b[0mreset_index\u001b[0m\u001b[0;34m(\u001b[0m\u001b[0mdrop\u001b[0m\u001b[0;34m=\u001b[0m\u001b[0;32mTrue\u001b[0m\u001b[0;34m)\u001b[0m\u001b[0;34m\u001b[0m\u001b[0;34m\u001b[0m\u001b[0m\n\u001b[1;32m     32\u001b[0m \u001b[0;31m#     df_topic_table=df_topic_table.drop('level_0',axis=1)\u001b[0m\u001b[0;34m\u001b[0m\u001b[0;34m\u001b[0m\u001b[0;34m\u001b[0m\u001b[0m\n",
      "\u001b[0;32m/home/fibebocai/virtualenvs/fibebocai_text/lib/python3.7/site-packages/pandas/util/_decorators.py\u001b[0m in \u001b[0;36mwrapper\u001b[0;34m(*args, **kwargs)\u001b[0m\n\u001b[1;32m    309\u001b[0m                     \u001b[0mstacklevel\u001b[0m\u001b[0;34m=\u001b[0m\u001b[0mstacklevel\u001b[0m\u001b[0;34m,\u001b[0m\u001b[0;34m\u001b[0m\u001b[0;34m\u001b[0m\u001b[0m\n\u001b[1;32m    310\u001b[0m                 )\n\u001b[0;32m--> 311\u001b[0;31m             \u001b[0;32mreturn\u001b[0m \u001b[0mfunc\u001b[0m\u001b[0;34m(\u001b[0m\u001b[0;34m*\u001b[0m\u001b[0margs\u001b[0m\u001b[0;34m,\u001b[0m \u001b[0;34m**\u001b[0m\u001b[0mkwargs\u001b[0m\u001b[0;34m)\u001b[0m\u001b[0;34m\u001b[0m\u001b[0;34m\u001b[0m\u001b[0m\n\u001b[0m\u001b[1;32m    312\u001b[0m \u001b[0;34m\u001b[0m\u001b[0m\n\u001b[1;32m    313\u001b[0m         \u001b[0;32mreturn\u001b[0m \u001b[0mwrapper\u001b[0m\u001b[0;34m\u001b[0m\u001b[0;34m\u001b[0m\u001b[0m\n",
      "\u001b[0;32m/home/fibebocai/virtualenvs/fibebocai_text/lib/python3.7/site-packages/pandas/core/reshape/concat.py\u001b[0m in \u001b[0;36mconcat\u001b[0;34m(objs, axis, join, ignore_index, keys, levels, names, verify_integrity, sort, copy)\u001b[0m\n\u001b[1;32m    302\u001b[0m         \u001b[0mverify_integrity\u001b[0m\u001b[0;34m=\u001b[0m\u001b[0mverify_integrity\u001b[0m\u001b[0;34m,\u001b[0m\u001b[0;34m\u001b[0m\u001b[0;34m\u001b[0m\u001b[0m\n\u001b[1;32m    303\u001b[0m         \u001b[0mcopy\u001b[0m\u001b[0;34m=\u001b[0m\u001b[0mcopy\u001b[0m\u001b[0;34m,\u001b[0m\u001b[0;34m\u001b[0m\u001b[0;34m\u001b[0m\u001b[0m\n\u001b[0;32m--> 304\u001b[0;31m         \u001b[0msort\u001b[0m\u001b[0;34m=\u001b[0m\u001b[0msort\u001b[0m\u001b[0;34m,\u001b[0m\u001b[0;34m\u001b[0m\u001b[0;34m\u001b[0m\u001b[0m\n\u001b[0m\u001b[1;32m    305\u001b[0m     )\n\u001b[1;32m    306\u001b[0m \u001b[0;34m\u001b[0m\u001b[0m\n",
      "\u001b[0;32m/home/fibebocai/virtualenvs/fibebocai_text/lib/python3.7/site-packages/pandas/core/reshape/concat.py\u001b[0m in \u001b[0;36m__init__\u001b[0;34m(self, objs, axis, join, keys, levels, names, ignore_index, verify_integrity, copy, sort)\u001b[0m\n\u001b[1;32m    382\u001b[0m                     \u001b[0;34m\"only Series and DataFrame objs are valid\"\u001b[0m\u001b[0;34m\u001b[0m\u001b[0;34m\u001b[0m\u001b[0m\n\u001b[1;32m    383\u001b[0m                 )\n\u001b[0;32m--> 384\u001b[0;31m                 \u001b[0;32mraise\u001b[0m \u001b[0mTypeError\u001b[0m\u001b[0;34m(\u001b[0m\u001b[0mmsg\u001b[0m\u001b[0;34m)\u001b[0m\u001b[0;34m\u001b[0m\u001b[0;34m\u001b[0m\u001b[0m\n\u001b[0m\u001b[1;32m    385\u001b[0m \u001b[0;34m\u001b[0m\u001b[0m\n\u001b[1;32m    386\u001b[0m             \u001b[0mndims\u001b[0m\u001b[0;34m.\u001b[0m\u001b[0madd\u001b[0m\u001b[0;34m(\u001b[0m\u001b[0mobj\u001b[0m\u001b[0;34m.\u001b[0m\u001b[0mndim\u001b[0m\u001b[0;34m)\u001b[0m\u001b[0;34m\u001b[0m\u001b[0;34m\u001b[0m\u001b[0m\n",
      "\u001b[0;31mTypeError\u001b[0m: cannot concatenate object of type '<class 'list'>'; only Series and DataFrame objs are valid"
     ]
    }
   ],
   "source": [
    "num_topics = 30\n",
    "num_words = 40\n",
    "[lda, X_cv, topics, df_doc_topic, significant_topic] = topic_gen(tickets, num_topics, num_words)\n",
    "df_topic_table = table_formatting(df_doc_topic, tickets)"
   ]
  },
  {
   "cell_type": "code",
   "execution_count": null,
   "id": "d8817718",
   "metadata": {},
   "outputs": [],
   "source": [
    "data_words"
   ]
  },
  {
   "cell_type": "code",
   "execution_count": null,
   "id": "a4a49e15",
   "metadata": {
    "scrolled": false
   },
   "outputs": [],
   "source": []
  },
  {
   "cell_type": "code",
   "execution_count": null,
   "id": "cb293f94",
   "metadata": {
    "scrolled": false
   },
   "outputs": [],
   "source": []
  },
  {
   "cell_type": "code",
   "execution_count": 3,
   "id": "5f18875e",
   "metadata": {
    "scrolled": true
   },
   "outputs": [
    {
     "ename": "NameError",
     "evalue": "name 'CountVectorizer' is not defined",
     "output_type": "error",
     "traceback": [
      "\u001b[0;31m---------------------------------------------------------------------------\u001b[0m",
      "\u001b[0;31mNameError\u001b[0m                                 Traceback (most recent call last)",
      "\u001b[0;32m/tmp/ipykernel_12946/1578398110.py\u001b[0m in \u001b[0;36m<module>\u001b[0;34m\u001b[0m\n\u001b[1;32m      4\u001b[0m \u001b[0mn_components\u001b[0m \u001b[0;34m=\u001b[0m \u001b[0;36m30\u001b[0m\u001b[0;34m\u001b[0m\u001b[0;34m\u001b[0m\u001b[0m\n\u001b[1;32m      5\u001b[0m \u001b[0mn_top_words\u001b[0m \u001b[0;34m=\u001b[0m \u001b[0;36m20\u001b[0m\u001b[0;34m\u001b[0m\u001b[0;34m\u001b[0m\u001b[0m\n\u001b[0;32m----> 6\u001b[0;31m \u001b[0mtfidf_vectorizer\u001b[0m \u001b[0;34m=\u001b[0m \u001b[0mCountVectorizer\u001b[0m\u001b[0;34m(\u001b[0m\u001b[0mmax_df\u001b[0m\u001b[0;34m=\u001b[0m\u001b[0;36m0.95\u001b[0m\u001b[0;34m,\u001b[0m \u001b[0mmin_df\u001b[0m\u001b[0;34m=\u001b[0m\u001b[0;36m2\u001b[0m\u001b[0;34m,\u001b[0m\u001b[0mmax_features\u001b[0m\u001b[0;34m=\u001b[0m\u001b[0mn_features\u001b[0m\u001b[0;34m,\u001b[0m \u001b[0mstop_words\u001b[0m\u001b[0;34m=\u001b[0m\u001b[0;34m'english'\u001b[0m\u001b[0;34m,\u001b[0m \u001b[0mngram_range\u001b[0m\u001b[0;34m=\u001b[0m\u001b[0;34m(\u001b[0m\u001b[0;36m2\u001b[0m\u001b[0;34m,\u001b[0m \u001b[0;36m3\u001b[0m\u001b[0;34m)\u001b[0m\u001b[0;34m)\u001b[0m\u001b[0;34m\u001b[0m\u001b[0;34m\u001b[0m\u001b[0m\n\u001b[0m\u001b[1;32m      7\u001b[0m \u001b[0mtfidf\u001b[0m \u001b[0;34m=\u001b[0m \u001b[0mtfidf_vectorizer\u001b[0m\u001b[0;34m.\u001b[0m\u001b[0mfit_transform\u001b[0m\u001b[0;34m(\u001b[0m\u001b[0mdf_reviews\u001b[0m\u001b[0;34m[\u001b[0m\u001b[0;34m'common_words'\u001b[0m\u001b[0;34m]\u001b[0m\u001b[0;34m)\u001b[0m\u001b[0;34m\u001b[0m\u001b[0;34m\u001b[0m\u001b[0m\n\u001b[1;32m      8\u001b[0m \u001b[0;31m# lsa = TruncatedSVD(n_components=n_components, random_state=1, algorithm='arpack').fit(tfidf)\u001b[0m\u001b[0;34m\u001b[0m\u001b[0;34m\u001b[0m\u001b[0;34m\u001b[0m\u001b[0m\n",
      "\u001b[0;31mNameError\u001b[0m: name 'CountVectorizer' is not defined"
     ]
    }
   ],
   "source": [
    "from sklearn.decomposition import TruncatedSVD, LatentDirichletAllocation\n",
    "lsa_topics = ['a','b','c','d','e','f','g','h','i','j','a1','b1','c1','d1','e1','f1','g1','h1','i1','j1','a2','b2','c2','d2','e2','f2','g2','h2','i2','j2']\n",
    "n_features = 1000\n",
    "n_components = 30\n",
    "n_top_words = 20\n",
    "tfidf_vectorizer = CountVectorizer(max_df=0.95, min_df=2,max_features=n_features, stop_words='english', ngram_range=(2, 3))\n",
    "tfidf = tfidf_vectorizer.fit_transform(df_reviews['common_words'])\n",
    "# lsa = TruncatedSVD(n_components=n_components, random_state=1, algorithm='arpack').fit(tfidf)\n",
    "lda = LatentDirichletAllocation(n_components=n_components, max_iter=10,learning_decay=0.5, learning_method='online',learning_offset=50,n_jobs=-1,evaluate_every = -1,batch_size=128, random_state=100).fit(tfidf)\n",
    "def get_model_topics(model, vectorizer, topics, n_top_words=n_top_words):\n",
    "    word_dict = {}\n",
    "    feature_names = vectorizer.get_feature_names()\n",
    "    for topic_idx, topic in enumerate(model.components_):\n",
    "        top_features_ind = topic.argsort()[:-n_top_words - 1:-1]\n",
    "        top_features = [feature_names[i] for i in top_features_ind]\n",
    "        word_dict[topics[topic_idx]] = top_features\n",
    "\n",
    "    return pd.DataFrame(word_dict)\n",
    "def get_inference(model, vectorizer, topics, text, threshold):\n",
    "    v_text = vectorizer.transform([text])\n",
    "    score = model.transform(v_text)\n",
    "\n",
    "    labels = set()\n",
    "    for i in range(len(score[0])):\n",
    "        if score[0][i] > threshold:\n",
    "            labels.add(topics[i])\n",
    "\n",
    "    if not labels:\n",
    "        return 'None', -1, set()\n",
    "\n",
    "    return topics[np.argmax(score)], score, labels\n",
    "text = df_reviews.loc[0]['common_words']\n",
    "\n",
    "# print(get_model_topics(nmf, tfidf_vectorizer, nmf_topics))\n",
    "# topic, score, _ = get_inference(nmf, tfidf_vectorizer, nmf_topics, text, 0)\n",
    "# print(topic, score)\n",
    "\n",
    "# print(get_model_topics(lsa, tfidf_vectorizer, lsa_topics))\n",
    "# topic, score, _ = get_inference(lsa, tfidf_vectorizer, lsa_topics, text, 0)\n",
    "# print(topic, score)\n",
    "\n",
    "print(get_model_topics(lda, tfidf_vectorizer, lsa_topics))\n",
    "topic, score, _ = get_inference(lda, tfidf_vectorizer, lsa_topics, text, 0)\n",
    "print(topic, score)"
   ]
  },
  {
   "cell_type": "code",
   "execution_count": 40,
   "id": "6025a640",
   "metadata": {},
   "outputs": [],
   "source": [
    "from sklearn.model_selection import GridSearchCV\n",
    "# Plotting tools\n",
    "import pyLDAvis\n",
    "import pyLDAvis.sklearn\n",
    "import matplotlib.pyplot as plt\n",
    "%matplotlib inline"
   ]
  },
  {
   "cell_type": "code",
   "execution_count": 42,
   "id": "55e95fe2",
   "metadata": {
    "scrolled": true
   },
   "outputs": [
    {
     "data": {
      "text/plain": [
       "GridSearchCV(estimator=LatentDirichletAllocation(),\n",
       "             param_grid={'learning_decay': [0.5, 0.7, 0.9],\n",
       "                         'n_components': [10, 15, 20, 25, 30]})"
      ]
     },
     "execution_count": 42,
     "metadata": {},
     "output_type": "execute_result"
    }
   ],
   "source": [
    "# Define Search Param\n",
    "search_params = {'n_components': [10, 15, 20, 25, 30], 'learning_decay': [.5, .7, .9]}\n",
    "\n",
    "# Init the Model\n",
    "lda = LatentDirichletAllocation()\n",
    "\n",
    "# Init Grid Search Class\n",
    "model = GridSearchCV(lda, param_grid=search_params)\n",
    "\n",
    "# Do the Grid Search\n",
    "model.fit(tfidf)"
   ]
  },
  {
   "cell_type": "code",
   "execution_count": 44,
   "id": "6cde37c5",
   "metadata": {},
   "outputs": [
    {
     "name": "stdout",
     "output_type": "stream",
     "text": [
      "Best Model's Params:  {'learning_decay': 0.5, 'n_components': 30}\n",
      "Best Log Likelihood Score:  -98936.05200408073\n",
      "Model Perplexity:  101.63390263279145\n"
     ]
    }
   ],
   "source": [
    "# Best Model\n",
    "best_lda_model = model.best_estimator_\n",
    "\n",
    "# Model Parameters\n",
    "print(\"Best Model's Params: \", model.best_params_)\n",
    "\n",
    "# Log Likelihood Score\n",
    "print(\"Best Log Likelihood Score: \", model.best_score_)\n",
    "\n",
    "# Perplexity\n",
    "print(\"Model Perplexity: \", best_lda_model.perplexity(tfidf))"
   ]
  },
  {
   "cell_type": "code",
   "execution_count": 79,
   "id": "022aed64",
   "metadata": {},
   "outputs": [],
   "source": [
    "# df_topic_table=pd.concat([tickets,df_doc_topic],axis=1)\n",
    "# df_topic_table"
   ]
  },
  {
   "cell_type": "code",
   "execution_count": null,
   "id": "be7dc8c6",
   "metadata": {
    "scrolled": true
   },
   "outputs": [],
   "source": []
  },
  {
   "cell_type": "code",
   "execution_count": 24,
   "id": "9766c319",
   "metadata": {},
   "outputs": [
    {
     "data": {
      "text/html": [
       "<div>\n",
       "<style scoped>\n",
       "    .dataframe tbody tr th:only-of-type {\n",
       "        vertical-align: middle;\n",
       "    }\n",
       "\n",
       "    .dataframe tbody tr th {\n",
       "        vertical-align: top;\n",
       "    }\n",
       "\n",
       "    .dataframe thead th {\n",
       "        text-align: right;\n",
       "    }\n",
       "</style>\n",
       "<table border=\"1\" class=\"dataframe\">\n",
       "  <thead>\n",
       "    <tr style=\"text-align: right;\">\n",
       "      <th></th>\n",
       "      <th>Ticketid</th>\n",
       "      <th>Topic0</th>\n",
       "      <th>Topic1</th>\n",
       "      <th>Topic2</th>\n",
       "      <th>Topic3</th>\n",
       "      <th>Topic4</th>\n",
       "      <th>Topic5</th>\n",
       "      <th>Topic6</th>\n",
       "      <th>Topic7</th>\n",
       "      <th>Topic8</th>\n",
       "      <th>Topic9</th>\n",
       "    </tr>\n",
       "  </thead>\n",
       "  <tbody>\n",
       "    <tr>\n",
       "      <th>4232</th>\n",
       "      <td>INC000005305831</td>\n",
       "      <td>0.02</td>\n",
       "      <td>0.02</td>\n",
       "      <td>0.02</td>\n",
       "      <td>0.84</td>\n",
       "      <td>0.02</td>\n",
       "      <td>0.02</td>\n",
       "      <td>0.02</td>\n",
       "      <td>0.02</td>\n",
       "      <td>0.02</td>\n",
       "      <td>0.02</td>\n",
       "    </tr>\n",
       "  </tbody>\n",
       "</table>\n",
       "</div>"
      ],
      "text/plain": [
       "             Ticketid  Topic0  Topic1  Topic2  Topic3  Topic4  Topic5  Topic6  \\\n",
       "4232  INC000005305831    0.02    0.02    0.02    0.84    0.02    0.02    0.02   \n",
       "\n",
       "      Topic7  Topic8  Topic9  \n",
       "4232    0.02    0.02    0.02  "
      ]
     },
     "execution_count": 24,
     "metadata": {},
     "output_type": "execute_result"
    }
   ],
   "source": [
    "df_topic_table[df_topic_table[\"Ticketid\"]==\"INC000005305831\"]"
   ]
  },
  {
   "cell_type": "code",
   "execution_count": 102,
   "id": "d44c8490",
   "metadata": {},
   "outputs": [],
   "source": [
    "# from sklearn.cluster import KMeans\n",
    "# from sklearn.decomposition import PCA\n",
    "# import matplotlib.pyplot as plt\n",
    "# (n_samples, n_features), n_digits = X_cv.shape, np.unique(tickets['Category']).size\n",
    "# pca= PCA(n_components=2)\n",
    "# reduced_data = pca.fit_transform(X_cv)\n",
    "# kmeans = KMeans(init=\"k-means++\", n_clusters=20, n_init=4)\n",
    "# kmeans.fit(reduced_data)"
   ]
  },
  {
   "cell_type": "code",
   "execution_count": 70,
   "id": "e8fe9c68",
   "metadata": {},
   "outputs": [
    {
     "data": {
      "image/png": "[encoded data removed]",
      "text/plain": [
       "<Figure size 432x288 with 1 Axes>"
      ]
     },
     "metadata": {},
     "output_type": "display_data"
    }
   ],
   "source": [
    "# # Step size of the mesh. Decrease to increase the quality of the VQ.\n",
    "# h = 0.02  # point in the mesh [x_min, x_max]x[y_min, y_max].\n",
    "\n",
    "# # Plot the decision boundary. For that, we will assign a color to each\n",
    "# x_min, x_max = reduced_data[:, 0].min() - 1, reduced_data[:, 0].max() + 1\n",
    "# y_min, y_max = reduced_data[:, 1].min() - 1, reduced_data[:, 1].max() + 1\n",
    "# xx, yy = np.meshgrid(np.arange(x_min, x_max, h), np.arange(y_min, y_max, h))\n",
    "\n",
    "# # Obtain labels for each point in mesh. Use last trained model.\n",
    "# Z = kmeans.predict(np.c_[xx.ravel(), yy.ravel()])\n",
    "\n",
    "# # Put the result into a color plot\n",
    "# Z = Z.reshape(xx.shape)\n",
    "# plt.figure(1)\n",
    "# plt.clf()\n",
    "# plt.imshow(\n",
    "#     Z,\n",
    "#     interpolation=\"nearest\",\n",
    "#     extent=(xx.min(), xx.max(), yy.min(), yy.max()),\n",
    "#     cmap=plt.cm.Paired,\n",
    "#     aspect=\"auto\",\n",
    "#     origin=\"lower\",\n",
    "# )\n",
    "\n",
    "# plt.plot(reduced_data[:, 0], reduced_data[:, 1], \"k.\", markersize=2)\n",
    "# # Plot the centroids as a white X\n",
    "# centroids = kmeans.cluster_centers_\n",
    "# plt.scatter(\n",
    "#     centroids[:, 0],\n",
    "#     centroids[:, 1],\n",
    "#     marker=\"x\",\n",
    "#     s=169,\n",
    "#     linewidths=3,\n",
    "#     color=\"w\",\n",
    "#     zorder=10,\n",
    "# )\n",
    "# plt.title(\n",
    "#     \"K-means clustering on the digits dataset (PCA-reduced data)\\n\"\n",
    "#     \"Centroids are marked with white cross\"\n",
    "# )\n",
    "# plt.xlim(x_min, x_max)\n",
    "# plt.ylim(y_min, y_max)\n",
    "# plt.xticks(())\n",
    "# plt.yticks(())\n",
    "# plt.show()"
   ]
  },
  {
   "cell_type": "code",
   "execution_count": 103,
   "id": "d4f98484",
   "metadata": {},
   "outputs": [],
   "source": [
    "# kmeans.predict(pca.fit_transform(X_cv[99]).reshape(1,-1))"
   ]
  },
  {
   "cell_type": "code",
   "execution_count": 104,
   "id": "8080830c",
   "metadata": {
    "scrolled": true
   },
   "outputs": [],
   "source": [
    "# pca.fit_transform(X_cv[0].reshape(1,-1))"
   ]
  },
  {
   "cell_type": "code",
   "execution_count": 108,
   "id": "e2dc5245",
   "metadata": {},
   "outputs": [
    {
     "data": {
      "text/plain": [
       "3240"
      ]
     },
     "execution_count": 108,
     "metadata": {},
     "output_type": "execute_result"
    }
   ],
   "source": [
    "n_features"
   ]
  }
 ],
 "metadata": {
  "kernelspec": {
   "display_name": "Python 3 C2M8 Oracle",
   "language": "python",
   "name": "p3-c2m8-g0"
  },
  "language_info": {
   "codemirror_mode": {
    "name": "ipython",
    "version": 3
   },
   "file_extension": ".py",
   "mimetype": "text/x-python",
   "name": "python",
   "nbconvert_exporter": "python",
   "pygments_lexer": "ipython3",
   "version": "3.7.12"
  }
 },
 "nbformat": 4,
 "nbformat_minor": 5
}
